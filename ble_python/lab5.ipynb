{
 "cells": [
  {
   "cell_type": "code",
   "execution_count": 1,
   "id": "8328b56c-3fc9-49d3-8013-f83af26e4e37",
   "metadata": {},
   "outputs": [],
   "source": [
    "%load_ext autoreload\n",
    "%autoreload 2\n",
    "\n",
    "from ble import get_ble_controller\n",
    "from base_ble import LOG\n",
    "from cmd_types import CMD\n",
    "import time\n",
    "import numpy as np\n",
    "import matplotlib.pyplot as plt\n",
    "\n",
    "LOG.propagate = False\n",
    "\n",
    "timestamps_ms = []\n",
    "distances = []\n",
    "setpoint_distances = []\n",
    "yaws = []\n",
    "setpoint_yaws = []\n",
    "left_controls = []\n",
    "right_controls = []\n",
    "left_pwms = []\n",
    "right_pwms = []"
   ]
  },
  {
   "cell_type": "code",
   "execution_count": 2,
   "id": "929fa5ce-2573-4c67-9cbb-ec415443aa3f",
   "metadata": {},
   "outputs": [],
   "source": [
    "def parse_str2data(ss):\n",
    "    if ss.count('|') < 3:\n",
    "        # view as normal message\n",
    "        print(ss)\n",
    "        return\n",
    "    # parse to recorded data\n",
    "    idx, data = ss.split(':')\n",
    "    timestamp, distance, setpoint_distance, yaw, setpoint_yaw, left_ctrl, right_ctrl, left_pwm, right_pwm \\\n",
    "        = data.split('|')\n",
    "    if int(timestamp) == 0 and int(distance) == 0 and int(yaw) == 0:\n",
    "        return\n",
    "    timestamps_ms.append(int(timestamp))\n",
    "    distances.append(int(distance))\n",
    "    setpoint_distances.append(int(setpoint_distance))\n",
    "    yaws.append(int(yaw))\n",
    "    setpoint_yaws.append(int(setpoint_yaw))\n",
    "    left_controls.append(int(left_ctrl))\n",
    "    right_controls.append(int(right_ctrl))\n",
    "    left_pwms.append(int(left_pwm))\n",
    "    right_pwms.append(int(right_pwm))\n",
    "    \n",
    "    # print(f\"time: {timestamp}  distance: {distance}  control: {ctrl}  left_pwm: {left_pwm}  right_pwm: {right_pwm}\")\n",
    "\n",
    "def notification_handler(uuid, byte_array):\n",
    "    data_str = ble.bytearray_to_string(byte_array)\n",
    "    parse_str2data(data_str)"
   ]
  },
  {
   "cell_type": "code",
   "execution_count": 3,
   "id": "36415f30-05d1-41d4-a52b-c034ef5a047e",
   "metadata": {},
   "outputs": [],
   "source": [
    "def plot_graph():\n",
    "    # 转换时间戳为秒（如果需要）\n",
    "    timestamps_s = [t / 1000.0 for t in timestamps_ms]\n",
    "    \n",
    "    # 创建一个图形窗口和三个轴对象（子图）\n",
    "    fig, (ax1, ax2, ax3) = plt.subplots(3, 1, figsize=(6, 7))  # 3个子图，垂直堆叠\n",
    "    \n",
    "    # 在第一个子图上绘制 Setpoints\n",
    "    ax1.plot(timestamps_s, setpoint_yaws, label='Setpoints', color='red')\n",
    "    ax1.set_title('Setpoints Over Time')\n",
    "    ax1.set_ylabel('Setpoints')\n",
    "    ax1.legend()\n",
    "    \n",
    "    # 在第二个子图上绘制 Yaws\n",
    "    ax2.plot(timestamps_s, yaws, label='Yaws', color='blue')\n",
    "    ax2.set_title('Yaws Over Time')\n",
    "    ax2.set_ylabel('Yaws')\n",
    "    ax2.legend()\n",
    "    \n",
    "    # 在第三个子图上绘制 Controls\n",
    "    ax3.plot(timestamps_s, right_controls, label='Controls', color='green')\n",
    "    ax3.set_title('Right Controls Over Time')\n",
    "    ax3.set_ylabel('Right Controls')\n",
    "    ax3.set_xlabel('Time')  # 只在最下面的子图上设置横轴标签\n",
    "    ax3.legend()\n",
    "    \n",
    "    # 调整子图之间的间距\n",
    "    plt.tight_layout()\n",
    "    \n",
    "    # 显示图形\n",
    "    plt.show()"
   ]
  },
  {
   "cell_type": "code",
   "execution_count": 23,
   "id": "e207c62d-046d-4665-8200-eb0de1c3333f",
   "metadata": {},
   "outputs": [
    {
     "name": "stdout",
     "output_type": "stream",
     "text": [
      "2024-04-12 01:35:22,381 |\u001b[32m INFO     \u001b[0m|: Looking for Artemis Nano Peripheral Device: C0:89:F0:6B:06:4B\n",
      "2024-04-12 01:35:25,337 |\u001b[32m INFO     \u001b[0m|: Connected to C0:89:F0:6B:06:4B\n"
     ]
    }
   ],
   "source": [
    "# Get ArtemisBLEController object\n",
    "ble = get_ble_controller()\n",
    "\n",
    "# Connect to the Artemis Device\n",
    "ble.connect()\n",
    "\n",
    "ble.start_notify(ble.uuid['RX_STRING'], notification_handler)"
   ]
  },
  {
   "cell_type": "code",
   "execution_count": 24,
   "id": "0c7fc9d8-aa89-4c80-9e35-ceb2ae0f2a60",
   "metadata": {},
   "outputs": [
    {
     "name": "stdout",
     "output_type": "stream",
     "text": [
      "PONG\n"
     ]
    }
   ],
   "source": [
    "ble.send_command(CMD.PING, \"\")"
   ]
  },
  {
   "cell_type": "code",
   "execution_count": 25,
   "id": "55a83d2e-2ad2-44d5-95f7-c5e1ba1f4202",
   "metadata": {},
   "outputs": [
    {
     "name": "stdout",
     "output_type": "stream",
     "text": [
      "Succeed: start auto running\n"
     ]
    }
   ],
   "source": [
    "ble.send_command(CMD.START_AUTO, \"\")\n",
    "timestamps_ms = []\n",
    "distances = []\n",
    "setpoint_distances = []\n",
    "yaws = []\n",
    "setpoint_yaws = []\n",
    "left_controls = []\n",
    "right_controls = []\n",
    "left_pwms = []\n",
    "right_pwms = []"
   ]
  },
  {
   "cell_type": "code",
   "execution_count": 26,
   "id": "1e161798-f18a-4df1-bb6e-11965dbd3af9",
   "metadata": {},
   "outputs": [],
   "source": [
    "ble.send_command(CMD.SET_GOAL_YAW, \"30\")"
   ]
  },
  {
   "cell_type": "code",
   "execution_count": 27,
   "id": "f51b50b2-99c8-46a1-b8c8-b271d000e31e",
   "metadata": {},
   "outputs": [],
   "source": [
    "ble.send_command(CMD.SET_GOAL_YAW, \"-30\")"
   ]
  },
  {
   "cell_type": "code",
   "execution_count": 28,
   "id": "787535f1-f401-4c40-81fe-75326b819bb8",
   "metadata": {},
   "outputs": [],
   "source": [
    "ble.send_command(CMD.SET_GOAL_YAW, \"0\")"
   ]
  },
  {
   "cell_type": "code",
   "execution_count": 29,
   "id": "1c7acf7e-0778-427f-8e95-0fc1d818deac",
   "metadata": {},
   "outputs": [
    {
     "name": "stdout",
     "output_type": "stream",
     "text": [
      "Succeed: brake and stop auto running\n"
     ]
    }
   ],
   "source": [
    "ble.send_command(CMD.STOP, \"\")"
   ]
  },
  {
   "cell_type": "code",
   "execution_count": 30,
   "id": "f38ec6db-eff4-4296-90e1-8903d18813bb",
   "metadata": {},
   "outputs": [
    {
     "name": "stdout",
     "output_type": "stream",
     "text": [
      "Size of records array: 842\n"
     ]
    }
   ],
   "source": [
    "ble.send_command(CMD.GET_HISTORY_DATA, \"\")"
   ]
  },
  {
   "cell_type": "code",
   "execution_count": 37,
   "id": "2576ec64-f469-4ec8-b9ed-8068197c1b1c",
   "metadata": {},
   "outputs": [
    {
     "data": {
      "image/png": "[encoded data removed]",
      "text/plain": [
       "<Figure size 600x700 with 3 Axes>"
      ]
     },
     "metadata": {},
     "output_type": "display_data"
    }
   ],
   "source": [
    "plot_graph()"
   ]
  },
  {
   "cell_type": "code",
   "execution_count": 10,
   "id": "da0bc091-0b0d-45a5-8d55-9044312f0b1f",
   "metadata": {},
   "outputs": [],
   "source": [
    "# ble.send_command(CMD.SET_TWO_CTRL, \"125|-220\")\n",
    "# s = ble.receive_string(ble.uuid['RX_STRING'])"
   ]
  },
  {
   "cell_type": "code",
   "execution_count": 21,
   "id": "0f12b815-def1-424b-bdc4-7b2282bded83",
   "metadata": {},
   "outputs": [],
   "source": [
    "# ble.send_command(CMD.GET_CURR_DATA, \"\")\n",
    "# s = ble.receive_string(ble.uuid['RX_STRING'])"
   ]
  },
  {
   "cell_type": "code",
   "execution_count": 9,
   "id": "1d1ee81d-24ae-496c-8689-3438d20aad00",
   "metadata": {},
   "outputs": [],
   "source": [
    "# ble.send_command(CMD.GET_CURR_DATA, \"\")\n",
    "# s = ble.receive_string(ble.uuid['RX_STRING'])"
   ]
  },
  {
   "cell_type": "code",
   "execution_count": 10,
   "id": "3c39a1e6-f08c-4d0d-9a3c-83cd5f2288ac",
   "metadata": {},
   "outputs": [],
   "source": [
    "# ble.send_command(CMD.SET_TWO_CTRL, \"125|-220\")\n",
    "# s = ble.receive_string(ble.uuid['RX_STRING'])"
   ]
  },
  {
   "cell_type": "code",
   "execution_count": 11,
   "id": "81d9538b-a796-4391-9a30-796e21485762",
   "metadata": {},
   "outputs": [],
   "source": [
    "# ble.send_command(CMD.STOP, \"\")\n",
    "# s = ble.receive_string(ble.uuid['RX_STRING'])"
   ]
  }
 ],
 "metadata": {
  "kernelspec": {
   "display_name": "Python 3 (ipykernel)",
   "language": "python",
   "name": "python3"
  },
  "language_info": {
   "codemirror_mode": {
    "name": "ipython",
    "version": 3
   },
   "file_extension": ".py",
   "mimetype": "text/x-python",
   "name": "python",
   "nbconvert_exporter": "python",
   "pygments_lexer": "ipython3",
   "version": "3.11.7"
  }
 },
 "nbformat": 4,
 "nbformat_minor": 5
}
