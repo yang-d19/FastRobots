{
 "cells": [
  {
   "cell_type": "code",
   "execution_count": 1,
   "id": "8328b56c-3fc9-49d3-8013-f83af26e4e37",
   "metadata": {},
   "outputs": [],
   "source": [
    "%load_ext autoreload\n",
    "%autoreload 2\n",
    "\n",
    "from ble import get_ble_controller\n",
    "from base_ble import LOG\n",
    "from cmd_types import CMD\n",
    "import time\n",
    "import numpy as np\n",
    "\n",
    "LOG.propagate = False"
   ]
  },
  {
   "cell_type": "code",
   "execution_count": 2,
   "id": "e207c62d-046d-4665-8200-eb0de1c3333f",
   "metadata": {},
   "outputs": [
    {
     "name": "stdout",
     "output_type": "stream",
     "text": [
      "2024-02-14 09:35:22,089 |\u001b[32m INFO     \u001b[0m|: Looking for Artemis Nano Peripheral Device: C0:89:F0:6B:06:4B\n",
      "2024-02-14 09:35:27,109 |\u001b[32m INFO     \u001b[0m|: Connected to C0:89:F0:6B:06:4B\n"
     ]
    },
    {
     "name": "stderr",
     "output_type": "stream",
     "text": [
      "/Users/yangd19/Documents/Code/FastRobots/Lab1/ble_python/base_ble.py:104: FutureWarning: This method will be removed future version, pass the callback to the BleakClient constructor instead.\n",
      "  self.client.set_disconnected_callback(self.disconnect_handler)\n"
     ]
    }
   ],
   "source": [
    "# Get ArtemisBLEController object\n",
    "ble = get_ble_controller()\n",
    "\n",
    "# Connect to the Artemis Device\n",
    "ble.connect()"
   ]
  },
  {
   "cell_type": "code",
   "execution_count": 3,
   "id": "ace12e8b-25ca-4a44-8a84-9d258ce98221",
   "metadata": {},
   "outputs": [
    {
     "name": "stdout",
     "output_type": "stream",
     "text": [
      "msg len = 5\n",
      "avg rrt = 120.18245849609374\n",
      "\n",
      "msg len = 10\n",
      "avg rrt = 119.9771240234375\n",
      "\n",
      "msg len = 20\n",
      "avg rrt = 121.45860595703125\n",
      "\n",
      "msg len = 40\n",
      "avg rrt = 121.63125\n",
      "\n",
      "msg len = 80\n",
      "avg rrt = 126.0863525390625\n",
      "\n",
      "msg len = 120\n",
      "avg rrt = 131.9011474609375\n",
      "\n",
      "msg len = 240\n",
      "avg rrt = 134.908251953125\n",
      "\n",
      "2024-02-14 09:35:45,695 |\u001b[32m INFO     \u001b[0m|: Disconnected from 747696FD-B715-05CB-947A-0D181A9C2566\n"
     ]
    }
   ],
   "source": [
    "start_time = time.time() * 1000\n",
    "\n",
    "for len in [5, 10, 20, 40, 80, 120, 240]:\n",
    "    print(f\"msg len = {len}\")\n",
    "    avg_rrt = 0\n",
    "    for i in range(20):\n",
    "        send_time = time.time() * 1000\n",
    "        ble.send_command(CMD.GET_REPLY_LEN, len)\n",
    "        s = ble.receive_string(ble.uuid['RX_STRING'])\n",
    "        recv_time = time.time() * 1000\n",
    "        \n",
    "        rrt = recv_time - send_time\n",
    "        avg_rrt += rrt\n",
    "        # print(rrt)\n",
    "        \n",
    "    avg_rrt /= 20\n",
    "    print(f\"avg rrt = {avg_rrt}\\n\")"
   ]
  }
 ],
 "metadata": {
  "kernelspec": {
   "display_name": "Python 3 (ipykernel)",
   "language": "python",
   "name": "python3"
  },
  "language_info": {
   "codemirror_mode": {
    "name": "ipython",
    "version": 3
   },
   "file_extension": ".py",
   "mimetype": "text/x-python",
   "name": "python",
   "nbconvert_exporter": "python",
   "pygments_lexer": "ipython3",
   "version": "3.11.7"
  }
 },
 "nbformat": 4,
 "nbformat_minor": 5
}
