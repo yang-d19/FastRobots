{
 "cells": [
  {
   "cell_type": "code",
   "execution_count": 1,
   "id": "8328b56c-3fc9-49d3-8013-f83af26e4e37",
   "metadata": {},
   "outputs": [],
   "source": [
    "%load_ext autoreload\n",
    "%autoreload 2\n",
    "\n",
    "from ble import get_ble_controller\n",
    "from base_ble import LOG\n",
    "from cmd_types import CMD\n",
    "import time\n",
    "import numpy as np\n",
    "import matplotlib.pyplot as plt\n",
    "\n",
    "LOG.propagate = False\n",
    "\n",
    "timestamps_ms = []\n",
    "distances = []\n",
    "setpoint_distances = []\n",
    "yaws = []\n",
    "setpoint_yaws = []\n",
    "left_controls = []\n",
    "right_controls = []\n",
    "left_pwms = []\n",
    "right_pwms = []"
   ]
  },
  {
   "cell_type": "code",
   "execution_count": 2,
   "id": "929fa5ce-2573-4c67-9cbb-ec415443aa3f",
   "metadata": {},
   "outputs": [],
   "source": [
    "def parse_str2data(ss):\n",
    "    if ss.count('|') < 3:\n",
    "        # view as normal message\n",
    "        print(ss)\n",
    "        return\n",
    "    # parse to recorded data\n",
    "    idx, data = ss.split(':')\n",
    "    timestamp, distance, setpoint_distance, yaw, setpoint_yaw, left_ctrl, right_ctrl, left_pwm, right_pwm \\\n",
    "        = data.split('|')\n",
    "    if int(timestamp) == 0 and int(distance) == 0 and int(yaw) == 0:\n",
    "        return\n",
    "    timestamps_ms.append(int(timestamp))\n",
    "    distances.append(int(distance))\n",
    "    setpoint_distances.append(int(setpoint_distance))\n",
    "    yaws.append(int(yaw))\n",
    "    setpoint_yaws.append(int(setpoint_yaw))\n",
    "    left_controls.append(int(left_ctrl))\n",
    "    right_controls.append(int(right_ctrl))\n",
    "    left_pwms.append(int(left_pwm))\n",
    "    right_pwms.append(int(right_pwm))\n",
    "    \n",
    "    # print(f\"time: {timestamp}  distance: {distance}  control: {ctrl}  left_pwm: {left_pwm}  right_pwm: {right_pwm}\")\n",
    "\n",
    "def notification_handler(uuid, byte_array):\n",
    "    data_str = ble.bytearray_to_string(byte_array)\n",
    "    parse_str2data(data_str)"
   ]
  },
  {
   "cell_type": "code",
   "execution_count": null,
   "id": "97dd8818-efa8-4b43-aaad-aeb1e3a73e59",
   "metadata": {},
   "outputs": [],
   "source": [
    "def plot_distance_graph():\n",
    "    # 转换时间戳为秒（如果需要）\n",
    "    timestamps_s = [t / 1000.0 for t in timestamps_ms]\n",
    "    \n",
    "    # 创建图表和轴\n",
    "    fig, ax1 = plt.subplots()\n",
    "    \n",
    "    # 绘制 distance 曲线\n",
    "    color = 'tab:red'\n",
    "    ax1.set_xlabel('Time (s)')\n",
    "    ax1.set_ylabel('Distance', color=color)\n",
    "    ax1.plot(timestamps_s, distances, color=color)\n",
    "    ax1.tick_params(axis='y', labelcolor=color)\n",
    "    \n",
    "    # 实例化一个新的轴，共享同一个X轴\n",
    "    ax2 = ax1.twinx()  \n",
    "    \n",
    "    # 绘制 control 曲线\n",
    "    color = 'tab:blue'\n",
    "    ax2.set_ylabel('Left PWM', color=color)  \n",
    "    ax2.plot(timestamps_s, left_pwms, color=color)\n",
    "    ax2.tick_params(axis='y', labelcolor=color)\n",
    "    \n",
    "    # 给图表加上标题和显示图例\n",
    "    plt.title('Distance and PWM vs. Time')\n",
    "    \n",
    "    # 显示图表\n",
    "    plt.show()"
   ]
  },
  {
   "cell_type": "code",
   "execution_count": 84,
   "id": "9ac56499-c852-4416-955e-ae91eac36123",
   "metadata": {},
   "outputs": [
    {
     "ename": "SyntaxError",
     "evalue": "invalid syntax (1908898.py, line 12)",
     "output_type": "error",
     "traceback": [
      "\u001b[0;36m  Cell \u001b[0;32mIn[84], line 12\u001b[0;36m\u001b[0m\n\u001b[0;31m    'distance': distances,\u001b[0m\n\u001b[0m              ^\u001b[0m\n\u001b[0;31mSyntaxError\u001b[0m\u001b[0;31m:\u001b[0m invalid syntax\n"
     ]
    }
   ],
   "source": [
    "def save_to_csv():\n",
    "    \n",
    "    import pandas as pd\n",
    "    # Example data\n",
    "    # distances = [1.0, 2.0, 3.0, 4.0]  # your distances array\n",
    "    # left_pwms = [10, 20, 30, 40]       # your left PWMs array\n",
    "    # right_pwms = [15, 25, 35, 45]      # your right PWMs array\n",
    "    \n",
    "    # Create a DataFrame\n",
    "    data = {\n",
    "        'timestamp_ms': timestamps_ms,\n",
    "        'distance': distances,\n",
    "        'left_pwm': left_pwms,\n",
    "        'right_pwm': right_pwms\n",
    "    }\n",
    "    df = pd.DataFrame(data)\n",
    "    \n",
    "    # Save the DataFrame to a CSV file\n",
    "    df.to_csv('output.csv', index=False)\n"
   ]
  },
  {
   "cell_type": "code",
   "execution_count": 83,
   "id": "5fa8e998-9cc6-4ca7-80a3-7d0fab53ae57",
   "metadata": {},
   "outputs": [],
   "source": [
    "save_to_csv()"
   ]
  },
  {
   "cell_type": "code",
   "execution_count": 62,
   "id": "e207c62d-046d-4665-8200-eb0de1c3333f",
   "metadata": {},
   "outputs": [
    {
     "name": "stdout",
     "output_type": "stream",
     "text": [
      "2024-04-15 18:23:03,843 |\u001b[32m INFO     \u001b[0m|: Looking for Artemis Nano Peripheral Device: C0:89:F0:6B:06:4B\n",
      "2024-04-15 18:23:07,177 |\u001b[32m INFO     \u001b[0m|: Connected to C0:89:F0:6B:06:4B\n"
     ]
    }
   ],
   "source": [
    "# Get ArtemisBLEController object\n",
    "ble = get_ble_controller()\n",
    "\n",
    "# Connect to the Artemis Device\n",
    "ble.connect()\n",
    "\n",
    "ble.start_notify(ble.uuid['RX_STRING'], notification_handler)"
   ]
  },
  {
   "cell_type": "code",
   "execution_count": 63,
   "id": "0c7fc9d8-aa89-4c80-9e35-ceb2ae0f2a60",
   "metadata": {},
   "outputs": [
    {
     "name": "stdout",
     "output_type": "stream",
     "text": [
      "PONG\n"
     ]
    }
   ],
   "source": [
    "ble.send_command(CMD.PING, \"\")"
   ]
  },
  {
   "cell_type": "code",
   "execution_count": 64,
   "id": "55a83d2e-2ad2-44d5-95f7-c5e1ba1f4202",
   "metadata": {},
   "outputs": [
    {
     "name": "stdout",
     "output_type": "stream",
     "text": [
      "Succeed: start auto running\n"
     ]
    }
   ],
   "source": [
    "ble.send_command(CMD.START_AUTO, \"\")\n",
    "timestamps_ms = []\n",
    "distances = []\n",
    "setpoint_distances = []\n",
    "yaws = []\n",
    "setpoint_yaws = []\n",
    "left_controls = []\n",
    "right_controls = []\n",
    "left_pwms = []\n",
    "right_pwms = []"
   ]
  },
  {
   "cell_type": "code",
   "execution_count": 71,
   "id": "1c7acf7e-0778-427f-8e95-0fc1d818deac",
   "metadata": {},
   "outputs": [
    {
     "name": "stdout",
     "output_type": "stream",
     "text": [
      "Succeed: brake and stop auto running\n"
     ]
    }
   ],
   "source": [
    "ble.send_command(CMD.STOP, \"\")"
   ]
  },
  {
   "cell_type": "code",
   "execution_count": 66,
   "id": "f38ec6db-eff4-4296-90e1-8903d18813bb",
   "metadata": {},
   "outputs": [
    {
     "name": "stdout",
     "output_type": "stream",
     "text": [
      "Size of records array: 450\n"
     ]
    }
   ],
   "source": [
    "ble.send_command(CMD.GET_HISTORY_DATA, \"\")"
   ]
  },
  {
   "cell_type": "code",
   "execution_count": 75,
   "id": "2576ec64-f469-4ec8-b9ed-8068197c1b1c",
   "metadata": {},
   "outputs": [
    {
     "data": {
      "image/png": "[encoded data removed]",
      "text/plain": [
       "<Figure size 640x480 with 2 Axes>"
      ]
     },
     "metadata": {},
     "output_type": "display_data"
    }
   ],
   "source": [
    "plot_distance_graph()"
   ]
  },
  {
   "cell_type": "code",
   "execution_count": 10,
   "id": "da0bc091-0b0d-45a5-8d55-9044312f0b1f",
   "metadata": {},
   "outputs": [],
   "source": [
    "# ble.send_command(CMD.SET_TWO_CTRL, \"125|-220\")\n",
    "# s = ble.receive_string(ble.uuid['RX_STRING'])"
   ]
  },
  {
   "cell_type": "code",
   "execution_count": 21,
   "id": "0f12b815-def1-424b-bdc4-7b2282bded83",
   "metadata": {},
   "outputs": [],
   "source": [
    "# ble.send_command(CMD.GET_CURR_DATA, \"\")\n",
    "# s = ble.receive_string(ble.uuid['RX_STRING'])"
   ]
  },
  {
   "cell_type": "code",
   "execution_count": 9,
   "id": "1d1ee81d-24ae-496c-8689-3438d20aad00",
   "metadata": {},
   "outputs": [],
   "source": [
    "# ble.send_command(CMD.GET_CURR_DATA, \"\")\n",
    "# s = ble.receive_string(ble.uuid['RX_STRING'])"
   ]
  },
  {
   "cell_type": "code",
   "execution_count": 10,
   "id": "3c39a1e6-f08c-4d0d-9a3c-83cd5f2288ac",
   "metadata": {},
   "outputs": [],
   "source": [
    "# ble.send_command(CMD.SET_TWO_CTRL, \"125|-220\")\n",
    "# s = ble.receive_string(ble.uuid['RX_STRING'])"
   ]
  },
  {
   "cell_type": "code",
   "execution_count": 11,
   "id": "81d9538b-a796-4391-9a30-796e21485762",
   "metadata": {},
   "outputs": [],
   "source": [
    "# ble.send_command(CMD.STOP, \"\")\n",
    "# s = ble.receive_string(ble.uuid['RX_STRING'])"
   ]
  }
 ],
 "metadata": {
  "kernelspec": {
   "display_name": "Python 3 (ipykernel)",
   "language": "python",
   "name": "python3"
  },
  "language_info": {
   "codemirror_mode": {
    "name": "ipython",
    "version": 3
   },
   "file_extension": ".py",
   "mimetype": "text/x-python",
   "name": "python",
   "nbconvert_exporter": "python",
   "pygments_lexer": "ipython3",
   "version": "3.11.7"
  }
 },
 "nbformat": 4,
 "nbformat_minor": 5
}
