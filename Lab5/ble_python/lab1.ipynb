{
 "cells": [
  {
   "cell_type": "code",
   "execution_count": 1,
   "id": "8328b56c-3fc9-49d3-8013-f83af26e4e37",
   "metadata": {},
   "outputs": [],
   "source": [
    "%load_ext autoreload\n",
    "%autoreload 2\n",
    "\n",
    "from ble import get_ble_controller\n",
    "from base_ble import LOG\n",
    "from cmd_types import CMD\n",
    "import time\n",
    "import numpy as np\n",
    "\n",
    "LOG.propagate = False"
   ]
  },
  {
   "cell_type": "code",
   "execution_count": 2,
   "id": "e207c62d-046d-4665-8200-eb0de1c3333f",
   "metadata": {},
   "outputs": [
    {
     "name": "stdout",
     "output_type": "stream",
     "text": [
      "2024-02-09 08:43:11,507 |\u001b[32m INFO     \u001b[0m|: Looking for Artemis Nano Peripheral Device: C0:89:F0:6B:06:4B\n",
      "2024-02-09 08:43:14,424 |\u001b[32m INFO     \u001b[0m|: Connected to C0:89:F0:6B:06:4B\n"
     ]
    },
    {
     "name": "stderr",
     "output_type": "stream",
     "text": [
      "/Users/yangd19/Documents/Code/FastRobots/Lab1/ble_python/base_ble.py:104: FutureWarning: This method will be removed future version, pass the callback to the BleakClient constructor instead.\n",
      "  self.client.set_disconnected_callback(self.disconnect_handler)\n"
     ]
    }
   ],
   "source": [
    "# Get ArtemisBLEController object\n",
    "ble = get_ble_controller()\n",
    "\n",
    "# Connect to the Artemis Device\n",
    "ble.connect()"
   ]
  },
  {
   "cell_type": "code",
   "execution_count": 3,
   "id": "f68f31e9-e09d-4b38-863d-a06fbebe8c97",
   "metadata": {},
   "outputs": [],
   "source": [
    "# ble.send_command(CMD.ECHO, \"lalala\")\n",
    "# s = ble.receive_string(ble.uuid['RX_STRING'])\n",
    "# print(s)"
   ]
  },
  {
   "cell_type": "code",
   "execution_count": 4,
   "id": "4c4f1e64-90af-438c-9fa0-ed7d74675dcd",
   "metadata": {},
   "outputs": [],
   "source": [
    "# ble.send_command(CMD.ECHO, \"hello world!\")\n",
    "# s = ble.receive_string(ble.uuid['RX_STRING'])\n",
    "# print(s)"
   ]
  },
  {
   "cell_type": "code",
   "execution_count": 5,
   "id": "55a83d2e-2ad2-44d5-95f7-c5e1ba1f4202",
   "metadata": {},
   "outputs": [],
   "source": [
    "# ble.send_command(CMD.GET_TIME_MILLIS, \"\")\n",
    "# s = ble.receive_string(ble.uuid['RX_STRING'])\n",
    "# print(s)"
   ]
  },
  {
   "cell_type": "code",
   "execution_count": 6,
   "id": "bbe9f0f7-ee6b-475e-86bb-3b728b994b11",
   "metadata": {},
   "outputs": [],
   "source": [
    "# ble.stop_notify(ble.uuid['RX_STRING'])"
   ]
  },
  {
   "cell_type": "code",
   "execution_count": 7,
   "id": "4b5c2152-38a2-4d83-ba08-6b9adba4d07f",
   "metadata": {},
   "outputs": [],
   "source": [
    "# ss = ble.receive_string(ble.uuid['RX_STRING'])\n",
    "# print(ss)"
   ]
  },
  {
   "cell_type": "code",
   "execution_count": 8,
   "id": "064962c9-8215-40f6-8c01-684a16cb4d7f",
   "metadata": {},
   "outputs": [],
   "source": [
    "time_stamps = []\n",
    "temperatures = []"
   ]
  },
  {
   "cell_type": "code",
   "execution_count": 9,
   "id": "b1cb5cb2-bd5b-4bb0-9a4e-2e9f3fdf80d1",
   "metadata": {},
   "outputs": [],
   "source": [
    "def parse_to_time_temp(ss):\n",
    "    result = ss.split('|')\n",
    "    time_ms = result[0]\n",
    "    temperature = result[1]\n",
    "    time_stamps.append(time_ms)\n",
    "    temperatures.append(temperature)\n",
    "    print(f\"time (ms): {time_ms}   temp (F): {temperature}\")\n",
    "\n",
    "def notification_handler(uuid, byte_array):\n",
    "    time_ms_str = ble.bytearray_to_string(byte_array)\n",
    "    # print(len(byte_array))\n",
    "    # print(time_ms_str)\n",
    "    parse_to_time_temp(time_ms_str)\n",
    "    \n",
    "ble.start_notify(ble.uuid['RX_STRING'], notification_handler)"
   ]
  },
  {
   "cell_type": "code",
   "execution_count": 10,
   "id": "bd3681c5-118e-4fcc-b72f-b1e34817c71e",
   "metadata": {},
   "outputs": [],
   "source": [
    "ble.send_command(CMD.GET_TEMP_READINGS, \"\")"
   ]
  },
  {
   "cell_type": "code",
   "execution_count": null,
   "id": "54210b7d-41c3-4e46-a521-5448417e4404",
   "metadata": {},
   "outputs": [
    {
     "name": "stdout",
     "output_type": "stream",
     "text": [
      "13\n",
      "time (ms): 341806   temp (F): 75.449\n",
      "13\n",
      "time (ms): 342307   temp (F): 74.609\n",
      "13\n",
      "time (ms): 342808   temp (F): 76.547\n",
      "13\n",
      "time (ms): 343309   temp (F): 76.289\n",
      "2024-02-09 08:53:03,068 |\u001b[32m INFO     \u001b[0m|: Disconnected from 747696FD-B715-05CB-947A-0D181A9C2566\n"
     ]
    }
   ],
   "source": [
    "import asyncio\n",
    "while True:\n",
    "    await asyncio.sleep(1)"
   ]
  }
 ],
 "metadata": {
  "kernelspec": {
   "display_name": "Python 3 (ipykernel)",
   "language": "python",
   "name": "python3"
  },
  "language_info": {
   "codemirror_mode": {
    "name": "ipython",
    "version": 3
   },
   "file_extension": ".py",
   "mimetype": "text/x-python",
   "name": "python",
   "nbconvert_exporter": "python",
   "pygments_lexer": "ipython3",
   "version": "3.11.7"
  }
 },
 "nbformat": 4,
 "nbformat_minor": 5
}
